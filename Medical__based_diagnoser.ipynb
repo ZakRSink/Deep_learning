{
 "cells": [
  {
   "cell_type": "markdown",
   "metadata": {},
   "source": [
    "# Medical based diagnoser\n",
    "\n",
    "dataset contains info about peoples symptoms and the medication and diagnosis they recieved\n",
    "your program has to predict those two for new patients that come in\n",
    "\n",
    "\n",
    "based on: https://www.geeksforgeeks.org/build-a-deep-learning-based-medical-diagnoser/\n"
   ]
  },
  {
   "cell_type": "markdown",
   "metadata": {},
   "source": [
    "Deep Learning has already shown remarkable success in many industries by helping us to automate the processes. Now let's try to use this technology in the field of medicine. We will build a deep learning model that will be trained on Patient's Problems which will be textual data, then our model will give the predicted Disease and will recommend Medicine to treat the patient's problem as an output.\n",
    "\n",
    "This is clearly an application of Recurrent Neural Network (RNN). This is because we need a model that will store the information from the previous text and use it later to predict the output. Hence, we will use the Long Short-Term Memory (LSTM) algorithm with Tensorflow to train our model."
   ]
  },
  {
   "cell_type": "markdown",
   "metadata": {},
   "source": [
    "### Long Short-Term Memory (LSTM) Networks\n",
    "When dealing with textual data, such as patient symptoms, a specific type of deep learning architecture called a Long Short-Term Memory (LSTM) network is often used. LSTM networks are well-suited for tasks involving sequences of data, as they can learn long-term dependencies between elements in the sequence.\n",
    "\n",
    "For example, consider a patient describing their symptoms as \" I've experienced a loss of appetite and don't enjoy food anymore, followed by fatigue and muscle weakness.\" An LSTM network can understand the importance of the order of these symptoms (\"loss of appetite\" followed by \"fatigue and muscle weakness\") to make an accurate diagnosis."
   ]
  },
  {
   "cell_type": "markdown",
   "metadata": {},
   "source": [
    "#### Importing Libraries\n",
    "First, we will import all the necessary libraries for handling data. 'Tokenizer' from tensorflow will be used for text tokenization, 'pad_sequences' will be used for sequence padding. 'to_categorical' will be used for converting labels to binary class matrices, and 'LabelEncoder' from scikit-learn will be used for encoding text labels as integers."
   ]
  },
  {
   "cell_type": "code",
   "execution_count": 1,
   "metadata": {},
   "outputs": [],
   "source": [
    "import pandas as pd\n",
    "import numpy as np\n",
    "from tensorflow.keras.preprocessing.text import Tokenizer\n",
    "from tensorflow.keras.preprocessing.sequence import pad_sequences\n",
    "from tensorflow.keras.utils import to_categorical\n",
    "from sklearn.preprocessing import LabelEncoder\n",
    "from tensorflow.keras.models import Model\n",
    "from tensorflow.keras.layers import Input, Embedding, LSTM, Dense"
   ]
  },
  {
   "cell_type": "code",
   "execution_count": 2,
   "metadata": {},
   "outputs": [
    {
     "name": "stdout",
     "output_type": "stream",
     "text": [
      "First 5 rows of the dataset:\n",
      "                                     Patient_Problem  \\\n",
      "0  Constant fatigue and muscle weakness, struggli...   \n",
      "1  Frequent severe migraines, sensitivity to ligh...   \n",
      "2  Sudden weight gain and feeling cold, especiall...   \n",
      "3  High fever, sore throat, and swollen lymph nod...   \n",
      "4  Excessive thirst and frequent urination, dry m...   \n",
      "\n",
      "                    Disease                                       Prescription  \n",
      "0  Chronic Fatigue Syndrome  Cognitive behavioral therapy, graded exercise ...  \n",
      "1        Migraine with Aura  Prescription triptans, avoid triggers like bri...  \n",
      "2            Hypothyroidism  Levothyroxine to regulate thyroid hormone levels.  \n",
      "3             Mononucleosis            Rest and hydration, ibuprofen for pain.  \n",
      "4         Diabetes Mellitus             Insulin therapy and lifestyle changes.  \n",
      "\n",
      "Dataset Info:\n",
      "<class 'pandas.core.frame.DataFrame'>\n",
      "RangeIndex: 407 entries, 0 to 406\n",
      "Data columns (total 3 columns):\n",
      " #   Column           Non-Null Count  Dtype \n",
      "---  ------           --------------  ----- \n",
      " 0   Patient_Problem  407 non-null    object\n",
      " 1   Disease          407 non-null    object\n",
      " 2   Prescription     407 non-null    object\n",
      "dtypes: object(3)\n",
      "memory usage: 9.7+ KB\n",
      "None\n",
      "\n",
      "Descriptive Statistics:\n",
      "                                          Patient_Problem  \\\n",
      "count                                                 407   \n",
      "unique                                                407   \n",
      "top     Constant fatigue and muscle weakness, struggli...   \n",
      "freq                                                    1   \n",
      "\n",
      "                     Disease                          Prescription  \n",
      "count                    407                                   407  \n",
      "unique                   178                                   388  \n",
      "top     Rheumatoid Arthritis  Thyroid hormone replacement therapy.  \n",
      "freq                      14                                     6  \n",
      "\n",
      "Missing Values in Each Column:\n",
      "Patient_Problem    0\n",
      "Disease            0\n",
      "Prescription       0\n",
      "dtype: int64\n",
      "\n",
      "Column Names:\n",
      "Index(['Patient_Problem', 'Disease', 'Prescription'], dtype='object')\n",
      "\n",
      "Dataset Shape:\n",
      "(407, 3)\n"
     ]
    }
   ],
   "source": [
    "# Step 1: Load the CSV file\n",
    "\n",
    "file_path = 'medical_data.csv'\n",
    "df = pd.read_csv(file_path)\n",
    "\n",
    "# Step 2: Display the first few rows of the dataset\n",
    "print(\"First 5 rows of the dataset:\")\n",
    "print(df.head())\n",
    "\n",
    "# Step 3: Display basic information about the dataset\n",
    "print(\"\\nDataset Info:\")\n",
    "print(df.info())\n",
    "\n",
    "# Step 4: Display basic statistics about numeric columns\n",
    "print(\"\\nDescriptive Statistics:\")\n",
    "print(df.describe())\n",
    "\n",
    "# Step 5: Check for missing values\n",
    "print(\"\\nMissing Values in Each Column:\")\n",
    "print(df.isnull().sum())\n",
    "\n",
    "# Step 6: Display column names\n",
    "print(\"\\nColumn Names:\")\n",
    "print(df.columns)\n",
    "\n",
    "# Step 7: Get a quick overview of the dataset shape (rows, columns)\n",
    "print(\"\\nDataset Shape:\")\n",
    "print(df.shape)\n",
    "\n",
    "data = df"
   ]
  },
  {
   "cell_type": "markdown",
   "metadata": {},
   "source": [
    "#### Data Preprocessing and Preparation\n",
    "Before using medical data in a deep learning model, it needs to be preprocessed to ensure the model can understand it. Preprocessing steps often include:\n",
    "\n",
    "- Text Tokenization: Converting textual data into sequences of numbers that the model can process.\n",
    "- Padding Sequences: Making all sequences the same length by adding padding characters at the beginning or end of shorter sequences.\n",
    "- Label Encoding: Converting categorical variables, such as disease names and medication names, into numerical labels."
   ]
  },
  {
   "cell_type": "code",
   "execution_count": 3,
   "metadata": {},
   "outputs": [],
   "source": [
    "tokenizer = Tokenizer(num_words=5000, oov_token=\"<OOV>\")\n",
    "tokenizer.fit_on_texts(data['Patient_Problem'])\n",
    "\n",
    "sequences = tokenizer.texts_to_sequences(data['Patient_Problem'])"
   ]
  },
  {
   "cell_type": "markdown",
   "metadata": {},
   "source": [
    "A 'tokenizer' variable is created to convert the textual data into sequences of integers. It only considers the top 5,000 words in the dataset in order to reduce the complexity. If the model encounters any out-of-vocabulary words during the training process then it will be replaced with the '<OOV>' token."
   ]
  },
  {
   "cell_type": "markdown",
   "metadata": {},
   "source": [
    "#### Padding Sequences\n",
    "In order to make the input sequences have the same length, the code finds the longest sequence and pads all other sequences with zeros at the end ('post' padding) to match this sentence."
   ]
  },
  {
   "cell_type": "code",
   "execution_count": 4,
   "metadata": {},
   "outputs": [],
   "source": [
    "max_length = max(len(x) for x in sequences)\n",
    "padded_sequences = pad_sequences(sequences, maxlen=max_length, padding='post')"
   ]
  },
  {
   "cell_type": "markdown",
   "metadata": {},
   "source": [
    "#### Encoding the Labels and Converting them to Categorical\n",
    "We will encode the 'Disease' and 'Prescription' columns as integers. Then the integer-encoded labels are converted into binary class matrices."
   ]
  },
  {
   "cell_type": "code",
   "execution_count": 5,
   "metadata": {},
   "outputs": [],
   "source": [
    "# Encoding the labels\n",
    "label_encoder_disease = LabelEncoder()\n",
    "label_encoder_prescription = LabelEncoder()\n",
    "\n",
    "disease_labels = label_encoder_disease.fit_transform(data['Disease'])\n",
    "prescription_labels = label_encoder_prescription.fit_transform(data['Prescription'])\n",
    "\n",
    "# Converting labels to categorical\n",
    "disease_labels_categorical = to_categorical(disease_labels)\n",
    "prescription_labels_categorical = to_categorical(prescription_labels)"
   ]
  },
  {
   "cell_type": "markdown",
   "metadata": {},
   "source": [
    "#### Combining Labels into a Multi-label Target Variable\n",
    "Finally, now we will stack the binary class matrices together to form a single multi-label target variable 'Y'. This allows the model to predict both 'Disease' and 'Prescription' from the patient's problem.\n",
    "\n",
    "e.g.  <br>\n",
    "disease_labels_categorical:    \n",
    "[[1, 0, 0], <br>\n",
    " [0, 1, 0], <br>\n",
    " [0, 0, 1]]\n",
    "\n",
    "prescription_labels_categorical: <br>\n",
    "[[0, 1], <br>\n",
    " [1, 0], <br>\n",
    " [0, 1]]\n",
    "\n",
    "Combo: <br>\n",
    "[[1, 0, 0, 0, 1], <br>\n",
    " [0, 1, 0, 1, 0], <br>\n",
    " [0, 0, 1, 0, 1]]"
   ]
  },
  {
   "cell_type": "code",
   "execution_count": 6,
   "metadata": {},
   "outputs": [],
   "source": [
    "Y = np.hstack((disease_labels_categorical, prescription_labels_categorical))"
   ]
  },
  {
   "cell_type": "markdown",
   "metadata": {},
   "source": [
    "## Model building\n",
    "\n",
    "#### Defining Model Architecture\n",
    "We will use the 'Model' and 'Input' to define the model architecture, and 'Embedding' to convert the integer sequences into dense vectors of fixed size. We will use 'Dense' for output layers that make predictions."
   ]
  },
  {
   "cell_type": "code",
   "execution_count": 7,
   "metadata": {},
   "outputs": [],
   "source": [
    "input_layer = Input(shape=(max_length,))\n",
    "\n",
    "embedding = Embedding(input_dim=5000, output_dim=64)(input_layer)\n",
    "lstm_layer = LSTM(64)(embedding)\n",
    "\n",
    "disease_output = Dense(len(label_encoder_disease.classes_), activation='softmax', \n",
    "name='disease_output')(lstm_layer)\n",
    "\n",
    "prescription_output = Dense(len(label_encoder_prescription.classes_), \n",
    "activation='softmax', name='prescription_output')(lstm_layer)"
   ]
  },
  {
   "cell_type": "markdown",
   "metadata": {},
   "source": [
    "The model firstly have, an input layer that can handle sequences up to a certain length. Then there's an embedding layer that turns the numbers into vectors. After that, there's an LSTM layer that looks at the order of things, and finally, two dense layers that predict diseases and prescriptions using a softmax function for classification."
   ]
  },
  {
   "cell_type": "markdown",
   "metadata": {},
   "source": [
    "#### Compiling the model"
   ]
  },
  {
   "cell_type": "code",
   "execution_count": 8,
   "metadata": {},
   "outputs": [
    {
     "name": "stdout",
     "output_type": "stream",
     "text": [
      "Model: \"model\"\n",
      "__________________________________________________________________________________________________\n",
      " Layer (type)                   Output Shape         Param #     Connected to                     \n",
      "==================================================================================================\n",
      " input_1 (InputLayer)           [(None, 17)]         0           []                               \n",
      "                                                                                                  \n",
      " embedding (Embedding)          (None, 17, 64)       320000      ['input_1[0][0]']                \n",
      "                                                                                                  \n",
      " lstm (LSTM)                    (None, 64)           33024       ['embedding[0][0]']              \n",
      "                                                                                                  \n",
      " disease_output (Dense)         (None, 178)          11570       ['lstm[0][0]']                   \n",
      "                                                                                                  \n",
      " prescription_output (Dense)    (None, 388)          25220       ['lstm[0][0]']                   \n",
      "                                                                                                  \n",
      "==================================================================================================\n",
      "Total params: 389,814\n",
      "Trainable params: 389,814\n",
      "Non-trainable params: 0\n",
      "__________________________________________________________________________________________________\n"
     ]
    }
   ],
   "source": [
    "model = Model(inputs=input_layer, outputs=[disease_output, prescription_output])\n",
    "\n",
    "model.compile(\n",
    "    loss={'disease_output': 'categorical_crossentropy', \n",
    "    'prescription_output': 'categorical_crossentropy'},\n",
    "    optimizer='adam',\n",
    "    metrics={'disease_output': ['accuracy'], 'prescription_output': ['accuracy']}\n",
    ")\n",
    "\n",
    "model.summary()"
   ]
  },
  {
   "cell_type": "markdown",
   "metadata": {},
   "source": [
    "#### Training the model"
   ]
  },
  {
   "cell_type": "code",
   "execution_count": 9,
   "metadata": {},
   "outputs": [
    {
     "name": "stdout",
     "output_type": "stream",
     "text": [
      "Epoch 1/100\n",
      "13/13 [==============================] - 3s 11ms/step - loss: 11.1467 - disease_output_loss: 5.1812 - prescription_output_loss: 5.9655 - disease_output_accuracy: 0.0025 - prescription_output_accuracy: 0.0025\n",
      "Epoch 2/100\n",
      "13/13 [==============================] - 0s 12ms/step - loss: 11.1314 - disease_output_loss: 5.1693 - prescription_output_loss: 5.9621 - disease_output_accuracy: 0.0197 - prescription_output_accuracy: 0.0025\n",
      "Epoch 3/100\n",
      "13/13 [==============================] - 0s 11ms/step - loss: 11.1070 - disease_output_loss: 5.1454 - prescription_output_loss: 5.9616 - disease_output_accuracy: 0.0418 - prescription_output_accuracy: 0.0025\n",
      "Epoch 4/100\n",
      "13/13 [==============================] - 0s 11ms/step - loss: 11.0192 - disease_output_loss: 5.0256 - prescription_output_loss: 5.9936 - disease_output_accuracy: 0.0172 - prescription_output_accuracy: 0.0147\n",
      "Epoch 5/100\n",
      "13/13 [==============================] - 0s 12ms/step - loss: 10.8727 - disease_output_loss: 4.9125 - prescription_output_loss: 5.9602 - disease_output_accuracy: 0.0344 - prescription_output_accuracy: 0.0147\n",
      "Epoch 6/100\n",
      "13/13 [==============================] - 0s 10ms/step - loss: 10.7088 - disease_output_loss: 4.7970 - prescription_output_loss: 5.9118 - disease_output_accuracy: 0.0344 - prescription_output_accuracy: 0.0147\n",
      "Epoch 7/100\n",
      "13/13 [==============================] - 0s 11ms/step - loss: 10.4568 - disease_output_loss: 4.6270 - prescription_output_loss: 5.8299 - disease_output_accuracy: 0.0541 - prescription_output_accuracy: 0.0197\n",
      "Epoch 8/100\n",
      "13/13 [==============================] - 0s 11ms/step - loss: 10.2209 - disease_output_loss: 4.4673 - prescription_output_loss: 5.7536 - disease_output_accuracy: 0.0786 - prescription_output_accuracy: 0.0172\n",
      "Epoch 9/100\n",
      "13/13 [==============================] - 0s 11ms/step - loss: 9.9666 - disease_output_loss: 4.3136 - prescription_output_loss: 5.6530 - disease_output_accuracy: 0.0786 - prescription_output_accuracy: 0.0197\n",
      "Epoch 10/100\n",
      "13/13 [==============================] - 0s 11ms/step - loss: 9.7953 - disease_output_loss: 4.2328 - prescription_output_loss: 5.5625 - disease_output_accuracy: 0.0934 - prescription_output_accuracy: 0.0197\n",
      "Epoch 11/100\n",
      "13/13 [==============================] - 0s 11ms/step - loss: 9.5654 - disease_output_loss: 4.0983 - prescription_output_loss: 5.4671 - disease_output_accuracy: 0.1106 - prescription_output_accuracy: 0.0172\n",
      "Epoch 12/100\n",
      "13/13 [==============================] - 0s 12ms/step - loss: 9.3581 - disease_output_loss: 3.9892 - prescription_output_loss: 5.3690 - disease_output_accuracy: 0.1253 - prescription_output_accuracy: 0.0246\n",
      "Epoch 13/100\n",
      "13/13 [==============================] - 0s 10ms/step - loss: 9.1752 - disease_output_loss: 3.9008 - prescription_output_loss: 5.2744 - disease_output_accuracy: 0.1253 - prescription_output_accuracy: 0.0221\n",
      "Epoch 14/100\n",
      "13/13 [==============================] - 0s 10ms/step - loss: 8.9863 - disease_output_loss: 3.8130 - prescription_output_loss: 5.1732 - disease_output_accuracy: 0.1253 - prescription_output_accuracy: 0.0246\n",
      "Epoch 15/100\n",
      "13/13 [==============================] - 0s 11ms/step - loss: 8.8208 - disease_output_loss: 3.7325 - prescription_output_loss: 5.0884 - disease_output_accuracy: 0.1351 - prescription_output_accuracy: 0.0319\n",
      "Epoch 16/100\n",
      "13/13 [==============================] - 0s 11ms/step - loss: 8.6793 - disease_output_loss: 3.6595 - prescription_output_loss: 5.0198 - disease_output_accuracy: 0.1425 - prescription_output_accuracy: 0.0344\n",
      "Epoch 17/100\n",
      "13/13 [==============================] - 0s 10ms/step - loss: 8.5059 - disease_output_loss: 3.5717 - prescription_output_loss: 4.9342 - disease_output_accuracy: 0.1769 - prescription_output_accuracy: 0.0369\n",
      "Epoch 18/100\n",
      "13/13 [==============================] - 0s 11ms/step - loss: 8.3058 - disease_output_loss: 3.4835 - prescription_output_loss: 4.8223 - disease_output_accuracy: 0.1794 - prescription_output_accuracy: 0.0418\n",
      "Epoch 19/100\n",
      "13/13 [==============================] - 0s 11ms/step - loss: 8.1391 - disease_output_loss: 3.3891 - prescription_output_loss: 4.7500 - disease_output_accuracy: 0.1990 - prescription_output_accuracy: 0.0491\n",
      "Epoch 20/100\n",
      "13/13 [==============================] - 0s 11ms/step - loss: 8.0060 - disease_output_loss: 3.3341 - prescription_output_loss: 4.6719 - disease_output_accuracy: 0.1941 - prescription_output_accuracy: 0.0418\n",
      "Epoch 21/100\n",
      "13/13 [==============================] - 0s 10ms/step - loss: 7.8472 - disease_output_loss: 3.2444 - prescription_output_loss: 4.6028 - disease_output_accuracy: 0.2334 - prescription_output_accuracy: 0.0516\n",
      "Epoch 22/100\n",
      "13/13 [==============================] - 0s 10ms/step - loss: 7.6649 - disease_output_loss: 3.1572 - prescription_output_loss: 4.5077 - disease_output_accuracy: 0.2506 - prescription_output_accuracy: 0.0590\n",
      "Epoch 23/100\n",
      "13/13 [==============================] - 0s 11ms/step - loss: 7.4537 - disease_output_loss: 3.0450 - prescription_output_loss: 4.4087 - disease_output_accuracy: 0.2850 - prescription_output_accuracy: 0.0614\n",
      "Epoch 24/100\n",
      "13/13 [==============================] - 0s 10ms/step - loss: 7.2740 - disease_output_loss: 2.9514 - prescription_output_loss: 4.3226 - disease_output_accuracy: 0.2776 - prescription_output_accuracy: 0.0614\n",
      "Epoch 25/100\n",
      "13/13 [==============================] - 0s 11ms/step - loss: 7.1453 - disease_output_loss: 2.8972 - prescription_output_loss: 4.2481 - disease_output_accuracy: 0.3047 - prescription_output_accuracy: 0.0713\n",
      "Epoch 26/100\n",
      "13/13 [==============================] - 0s 11ms/step - loss: 7.0120 - disease_output_loss: 2.8295 - prescription_output_loss: 4.1825 - disease_output_accuracy: 0.3096 - prescription_output_accuracy: 0.0688\n",
      "Epoch 27/100\n",
      "13/13 [==============================] - 0s 10ms/step - loss: 6.9307 - disease_output_loss: 2.8016 - prescription_output_loss: 4.1291 - disease_output_accuracy: 0.3071 - prescription_output_accuracy: 0.0909\n",
      "Epoch 28/100\n",
      "13/13 [==============================] - 0s 11ms/step - loss: 6.8317 - disease_output_loss: 2.7651 - prescription_output_loss: 4.0667 - disease_output_accuracy: 0.3219 - prescription_output_accuracy: 0.0786\n",
      "Epoch 29/100\n",
      "13/13 [==============================] - 0s 11ms/step - loss: 6.7152 - disease_output_loss: 2.7040 - prescription_output_loss: 4.0112 - disease_output_accuracy: 0.3219 - prescription_output_accuracy: 0.0860\n",
      "Epoch 30/100\n",
      "13/13 [==============================] - 0s 11ms/step - loss: 6.6469 - disease_output_loss: 2.6772 - prescription_output_loss: 3.9696 - disease_output_accuracy: 0.3514 - prescription_output_accuracy: 0.0885\n",
      "Epoch 31/100\n",
      "13/13 [==============================] - 0s 11ms/step - loss: 6.5283 - disease_output_loss: 2.6186 - prescription_output_loss: 3.9098 - disease_output_accuracy: 0.3514 - prescription_output_accuracy: 0.1032\n",
      "Epoch 32/100\n",
      "13/13 [==============================] - 0s 11ms/step - loss: 6.4377 - disease_output_loss: 2.5745 - prescription_output_loss: 3.8632 - disease_output_accuracy: 0.3514 - prescription_output_accuracy: 0.1155\n",
      "Epoch 33/100\n",
      "13/13 [==============================] - 0s 11ms/step - loss: 6.3111 - disease_output_loss: 2.5039 - prescription_output_loss: 3.8072 - disease_output_accuracy: 0.3857 - prescription_output_accuracy: 0.1106\n",
      "Epoch 34/100\n",
      "13/13 [==============================] - 0s 10ms/step - loss: 6.2203 - disease_output_loss: 2.4749 - prescription_output_loss: 3.7455 - disease_output_accuracy: 0.3563 - prescription_output_accuracy: 0.1548\n",
      "Epoch 35/100\n",
      "13/13 [==============================] - 0s 11ms/step - loss: 6.1842 - disease_output_loss: 2.4569 - prescription_output_loss: 3.7273 - disease_output_accuracy: 0.3808 - prescription_output_accuracy: 0.1425\n",
      "Epoch 36/100\n",
      "13/13 [==============================] - 0s 11ms/step - loss: 6.0844 - disease_output_loss: 2.3983 - prescription_output_loss: 3.6860 - disease_output_accuracy: 0.3808 - prescription_output_accuracy: 0.1351\n",
      "Epoch 37/100\n",
      "13/13 [==============================] - 0s 10ms/step - loss: 5.9439 - disease_output_loss: 2.3313 - prescription_output_loss: 3.6127 - disease_output_accuracy: 0.4054 - prescription_output_accuracy: 0.1622\n",
      "Epoch 38/100\n",
      "13/13 [==============================] - 0s 10ms/step - loss: 5.9267 - disease_output_loss: 2.3300 - prescription_output_loss: 3.5967 - disease_output_accuracy: 0.4054 - prescription_output_accuracy: 0.1572\n",
      "Epoch 39/100\n",
      "13/13 [==============================] - 0s 11ms/step - loss: 5.8319 - disease_output_loss: 2.2733 - prescription_output_loss: 3.5586 - disease_output_accuracy: 0.4128 - prescription_output_accuracy: 0.1794\n",
      "Epoch 40/100\n",
      "13/13 [==============================] - 0s 11ms/step - loss: 5.7164 - disease_output_loss: 2.2119 - prescription_output_loss: 3.5045 - disease_output_accuracy: 0.4349 - prescription_output_accuracy: 0.2088\n",
      "Epoch 41/100\n",
      "13/13 [==============================] - 0s 13ms/step - loss: 5.6318 - disease_output_loss: 2.1653 - prescription_output_loss: 3.4665 - disease_output_accuracy: 0.4447 - prescription_output_accuracy: 0.1843\n",
      "Epoch 42/100\n",
      "13/13 [==============================] - 0s 10ms/step - loss: 5.5813 - disease_output_loss: 2.1563 - prescription_output_loss: 3.4250 - disease_output_accuracy: 0.4423 - prescription_output_accuracy: 0.1916\n",
      "Epoch 43/100\n",
      "13/13 [==============================] - 0s 11ms/step - loss: 5.5005 - disease_output_loss: 2.1147 - prescription_output_loss: 3.3858 - disease_output_accuracy: 0.4644 - prescription_output_accuracy: 0.2015\n",
      "Epoch 44/100\n",
      "13/13 [==============================] - 0s 11ms/step - loss: 5.4526 - disease_output_loss: 2.0889 - prescription_output_loss: 3.3636 - disease_output_accuracy: 0.4619 - prescription_output_accuracy: 0.2211\n",
      "Epoch 45/100\n",
      "13/13 [==============================] - 0s 10ms/step - loss: 5.3407 - disease_output_loss: 2.0380 - prescription_output_loss: 3.3027 - disease_output_accuracy: 0.4644 - prescription_output_accuracy: 0.2211\n",
      "Epoch 46/100\n",
      "13/13 [==============================] - 0s 11ms/step - loss: 5.2219 - disease_output_loss: 1.9769 - prescription_output_loss: 3.2450 - disease_output_accuracy: 0.4865 - prescription_output_accuracy: 0.2457\n",
      "Epoch 47/100\n",
      "13/13 [==============================] - 0s 11ms/step - loss: 5.1443 - disease_output_loss: 1.9421 - prescription_output_loss: 3.2021 - disease_output_accuracy: 0.4816 - prescription_output_accuracy: 0.2506\n",
      "Epoch 48/100\n",
      "13/13 [==============================] - 0s 11ms/step - loss: 5.0695 - disease_output_loss: 1.9099 - prescription_output_loss: 3.1597 - disease_output_accuracy: 0.5160 - prescription_output_accuracy: 0.2678\n",
      "Epoch 49/100\n",
      "13/13 [==============================] - 0s 11ms/step - loss: 4.9794 - disease_output_loss: 1.8593 - prescription_output_loss: 3.1201 - disease_output_accuracy: 0.5283 - prescription_output_accuracy: 0.2973\n",
      "Epoch 50/100\n",
      "13/13 [==============================] - 0s 11ms/step - loss: 4.9242 - disease_output_loss: 1.8323 - prescription_output_loss: 3.0919 - disease_output_accuracy: 0.5356 - prescription_output_accuracy: 0.2899\n",
      "Epoch 51/100\n",
      "13/13 [==============================] - 0s 11ms/step - loss: 4.8537 - disease_output_loss: 1.8026 - prescription_output_loss: 3.0511 - disease_output_accuracy: 0.5356 - prescription_output_accuracy: 0.2948\n",
      "Epoch 52/100\n",
      "13/13 [==============================] - 0s 11ms/step - loss: 4.8298 - disease_output_loss: 1.7900 - prescription_output_loss: 3.0397 - disease_output_accuracy: 0.5332 - prescription_output_accuracy: 0.3268\n",
      "Epoch 53/100\n",
      "13/13 [==============================] - 0s 13ms/step - loss: 4.7534 - disease_output_loss: 1.7566 - prescription_output_loss: 2.9969 - disease_output_accuracy: 0.5528 - prescription_output_accuracy: 0.3292\n",
      "Epoch 54/100\n",
      "13/13 [==============================] - 0s 11ms/step - loss: 4.7286 - disease_output_loss: 1.7495 - prescription_output_loss: 2.9791 - disease_output_accuracy: 0.5602 - prescription_output_accuracy: 0.3342\n",
      "Epoch 55/100\n",
      "13/13 [==============================] - 0s 11ms/step - loss: 4.6703 - disease_output_loss: 1.7186 - prescription_output_loss: 2.9517 - disease_output_accuracy: 0.5627 - prescription_output_accuracy: 0.3096\n",
      "Epoch 56/100\n",
      "13/13 [==============================] - 0s 11ms/step - loss: 4.8714 - disease_output_loss: 1.8182 - prescription_output_loss: 3.0532 - disease_output_accuracy: 0.5356 - prescription_output_accuracy: 0.2826\n",
      "Epoch 57/100\n",
      "13/13 [==============================] - 0s 10ms/step - loss: 4.8065 - disease_output_loss: 1.8027 - prescription_output_loss: 3.0039 - disease_output_accuracy: 0.5209 - prescription_output_accuracy: 0.2776\n",
      "Epoch 58/100\n",
      "13/13 [==============================] - 0s 10ms/step - loss: 4.7507 - disease_output_loss: 1.7684 - prescription_output_loss: 2.9823 - disease_output_accuracy: 0.5332 - prescription_output_accuracy: 0.2703\n",
      "Epoch 59/100\n",
      "13/13 [==============================] - 0s 11ms/step - loss: 4.6199 - disease_output_loss: 1.7002 - prescription_output_loss: 2.9197 - disease_output_accuracy: 0.5553 - prescription_output_accuracy: 0.2973\n",
      "Epoch 60/100\n",
      "13/13 [==============================] - 0s 11ms/step - loss: 4.5253 - disease_output_loss: 1.6576 - prescription_output_loss: 2.8677 - disease_output_accuracy: 0.5799 - prescription_output_accuracy: 0.3342\n",
      "Epoch 61/100\n",
      "13/13 [==============================] - 0s 11ms/step - loss: 4.5811 - disease_output_loss: 1.6916 - prescription_output_loss: 2.8895 - disease_output_accuracy: 0.5627 - prescription_output_accuracy: 0.3243\n",
      "Epoch 62/100\n",
      "13/13 [==============================] - 0s 11ms/step - loss: 4.4317 - disease_output_loss: 1.6016 - prescription_output_loss: 2.8301 - disease_output_accuracy: 0.5799 - prescription_output_accuracy: 0.3440\n",
      "Epoch 63/100\n",
      "13/13 [==============================] - 0s 11ms/step - loss: 4.4148 - disease_output_loss: 1.6055 - prescription_output_loss: 2.8093 - disease_output_accuracy: 0.5651 - prescription_output_accuracy: 0.3366\n",
      "Epoch 64/100\n",
      "13/13 [==============================] - 0s 11ms/step - loss: 4.3872 - disease_output_loss: 1.5978 - prescription_output_loss: 2.7894 - disease_output_accuracy: 0.5872 - prescription_output_accuracy: 0.3489\n",
      "Epoch 65/100\n",
      "13/13 [==============================] - 0s 11ms/step - loss: 4.4723 - disease_output_loss: 1.6563 - prescription_output_loss: 2.8159 - disease_output_accuracy: 0.5455 - prescription_output_accuracy: 0.3194\n",
      "Epoch 66/100\n",
      "13/13 [==============================] - 0s 10ms/step - loss: 4.3859 - disease_output_loss: 1.6141 - prescription_output_loss: 2.7718 - disease_output_accuracy: 0.5823 - prescription_output_accuracy: 0.3464\n",
      "Epoch 67/100\n",
      "13/13 [==============================] - 0s 12ms/step - loss: 4.2369 - disease_output_loss: 1.5312 - prescription_output_loss: 2.7056 - disease_output_accuracy: 0.6044 - prescription_output_accuracy: 0.3808\n",
      "Epoch 68/100\n",
      "13/13 [==============================] - 0s 11ms/step - loss: 4.1869 - disease_output_loss: 1.5022 - prescription_output_loss: 2.6847 - disease_output_accuracy: 0.6143 - prescription_output_accuracy: 0.3882\n",
      "Epoch 69/100\n",
      "13/13 [==============================] - 0s 11ms/step - loss: 4.1142 - disease_output_loss: 1.4693 - prescription_output_loss: 2.6449 - disease_output_accuracy: 0.6339 - prescription_output_accuracy: 0.3833\n",
      "Epoch 70/100\n",
      "13/13 [==============================] - 0s 11ms/step - loss: 4.0628 - disease_output_loss: 1.4527 - prescription_output_loss: 2.6101 - disease_output_accuracy: 0.6437 - prescription_output_accuracy: 0.3980\n",
      "Epoch 71/100\n",
      "13/13 [==============================] - 0s 11ms/step - loss: 3.9828 - disease_output_loss: 1.4091 - prescription_output_loss: 2.5737 - disease_output_accuracy: 0.6462 - prescription_output_accuracy: 0.4054\n",
      "Epoch 72/100\n",
      "13/13 [==============================] - 0s 11ms/step - loss: 3.9173 - disease_output_loss: 1.3789 - prescription_output_loss: 2.5384 - disease_output_accuracy: 0.6388 - prescription_output_accuracy: 0.4054\n",
      "Epoch 73/100\n",
      "13/13 [==============================] - 0s 11ms/step - loss: 3.8977 - disease_output_loss: 1.3718 - prescription_output_loss: 2.5260 - disease_output_accuracy: 0.6708 - prescription_output_accuracy: 0.4177\n",
      "Epoch 74/100\n",
      "13/13 [==============================] - 0s 11ms/step - loss: 3.8764 - disease_output_loss: 1.3615 - prescription_output_loss: 2.5149 - disease_output_accuracy: 0.6757 - prescription_output_accuracy: 0.4079\n",
      "Epoch 75/100\n",
      "13/13 [==============================] - 0s 11ms/step - loss: 3.8563 - disease_output_loss: 1.3560 - prescription_output_loss: 2.5003 - disease_output_accuracy: 0.6732 - prescription_output_accuracy: 0.4226\n",
      "Epoch 76/100\n",
      "13/13 [==============================] - 0s 11ms/step - loss: 3.8016 - disease_output_loss: 1.3297 - prescription_output_loss: 2.4719 - disease_output_accuracy: 0.6806 - prescription_output_accuracy: 0.4177\n",
      "Epoch 77/100\n",
      "13/13 [==============================] - 0s 11ms/step - loss: 3.7639 - disease_output_loss: 1.3244 - prescription_output_loss: 2.4394 - disease_output_accuracy: 0.6609 - prescription_output_accuracy: 0.4275\n",
      "Epoch 78/100\n",
      "13/13 [==============================] - 0s 10ms/step - loss: 3.7088 - disease_output_loss: 1.2939 - prescription_output_loss: 2.4149 - disease_output_accuracy: 0.6732 - prescription_output_accuracy: 0.4226\n",
      "Epoch 79/100\n",
      "13/13 [==============================] - 0s 11ms/step - loss: 3.6630 - disease_output_loss: 1.2683 - prescription_output_loss: 2.3947 - disease_output_accuracy: 0.6806 - prescription_output_accuracy: 0.4275\n",
      "Epoch 80/100\n",
      "13/13 [==============================] - 0s 10ms/step - loss: 3.6463 - disease_output_loss: 1.2606 - prescription_output_loss: 2.3857 - disease_output_accuracy: 0.6830 - prescription_output_accuracy: 0.4373\n",
      "Epoch 81/100\n",
      "13/13 [==============================] - 0s 13ms/step - loss: 3.6391 - disease_output_loss: 1.2677 - prescription_output_loss: 2.3714 - disease_output_accuracy: 0.6880 - prescription_output_accuracy: 0.4423\n",
      "Epoch 82/100\n",
      "13/13 [==============================] - 0s 11ms/step - loss: 3.6038 - disease_output_loss: 1.2444 - prescription_output_loss: 2.3594 - disease_output_accuracy: 0.7076 - prescription_output_accuracy: 0.4005\n",
      "Epoch 83/100\n",
      "13/13 [==============================] - 0s 11ms/step - loss: 3.6275 - disease_output_loss: 1.2548 - prescription_output_loss: 2.3727 - disease_output_accuracy: 0.6781 - prescription_output_accuracy: 0.4251\n",
      "Epoch 84/100\n",
      "13/13 [==============================] - 0s 10ms/step - loss: 3.6120 - disease_output_loss: 1.2466 - prescription_output_loss: 2.3654 - disease_output_accuracy: 0.6732 - prescription_output_accuracy: 0.4152\n",
      "Epoch 85/100\n",
      "13/13 [==============================] - 0s 10ms/step - loss: 3.6062 - disease_output_loss: 1.2542 - prescription_output_loss: 2.3520 - disease_output_accuracy: 0.6806 - prescription_output_accuracy: 0.4472\n",
      "Epoch 86/100\n",
      "13/13 [==============================] - 0s 10ms/step - loss: 3.5575 - disease_output_loss: 1.2237 - prescription_output_loss: 2.3337 - disease_output_accuracy: 0.6855 - prescription_output_accuracy: 0.4447\n",
      "Epoch 87/100\n",
      "13/13 [==============================] - 0s 10ms/step - loss: 3.5043 - disease_output_loss: 1.1983 - prescription_output_loss: 2.3060 - disease_output_accuracy: 0.7125 - prescription_output_accuracy: 0.4349\n",
      "Epoch 88/100\n",
      "13/13 [==============================] - 0s 10ms/step - loss: 3.4542 - disease_output_loss: 1.1743 - prescription_output_loss: 2.2799 - disease_output_accuracy: 0.7248 - prescription_output_accuracy: 0.4767\n",
      "Epoch 89/100\n",
      "13/13 [==============================] - 0s 11ms/step - loss: 3.4149 - disease_output_loss: 1.1656 - prescription_output_loss: 2.2493 - disease_output_accuracy: 0.7322 - prescription_output_accuracy: 0.4889\n",
      "Epoch 90/100\n",
      "13/13 [==============================] - 0s 12ms/step - loss: 3.3797 - disease_output_loss: 1.1438 - prescription_output_loss: 2.2358 - disease_output_accuracy: 0.7445 - prescription_output_accuracy: 0.4595\n",
      "Epoch 91/100\n",
      "13/13 [==============================] - 0s 10ms/step - loss: 3.3260 - disease_output_loss: 1.1296 - prescription_output_loss: 2.1964 - disease_output_accuracy: 0.7420 - prescription_output_accuracy: 0.4668\n",
      "Epoch 92/100\n",
      "13/13 [==============================] - 0s 11ms/step - loss: 3.3856 - disease_output_loss: 1.1608 - prescription_output_loss: 2.2248 - disease_output_accuracy: 0.7174 - prescription_output_accuracy: 0.4373\n",
      "Epoch 93/100\n",
      "13/13 [==============================] - 0s 13ms/step - loss: 3.3739 - disease_output_loss: 1.1498 - prescription_output_loss: 2.2241 - disease_output_accuracy: 0.7371 - prescription_output_accuracy: 0.4496\n",
      "Epoch 94/100\n",
      "13/13 [==============================] - 0s 11ms/step - loss: 3.2842 - disease_output_loss: 1.1132 - prescription_output_loss: 2.1710 - disease_output_accuracy: 0.7297 - prescription_output_accuracy: 0.4595\n",
      "Epoch 95/100\n",
      "13/13 [==============================] - 0s 11ms/step - loss: 3.2502 - disease_output_loss: 1.1062 - prescription_output_loss: 2.1440 - disease_output_accuracy: 0.7224 - prescription_output_accuracy: 0.5012\n",
      "Epoch 96/100\n",
      "13/13 [==============================] - 0s 11ms/step - loss: 3.2405 - disease_output_loss: 1.0847 - prescription_output_loss: 2.1558 - disease_output_accuracy: 0.7224 - prescription_output_accuracy: 0.4619\n",
      "Epoch 97/100\n",
      "13/13 [==============================] - 0s 11ms/step - loss: 3.1865 - disease_output_loss: 1.0626 - prescription_output_loss: 2.1239 - disease_output_accuracy: 0.7518 - prescription_output_accuracy: 0.4791\n",
      "Epoch 98/100\n",
      "13/13 [==============================] - 0s 11ms/step - loss: 3.1723 - disease_output_loss: 1.0564 - prescription_output_loss: 2.1159 - disease_output_accuracy: 0.7445 - prescription_output_accuracy: 0.4816\n",
      "Epoch 99/100\n",
      "13/13 [==============================] - 0s 11ms/step - loss: 3.1329 - disease_output_loss: 1.0468 - prescription_output_loss: 2.0861 - disease_output_accuracy: 0.7617 - prescription_output_accuracy: 0.5111\n",
      "Epoch 100/100\n",
      "13/13 [==============================] - 0s 11ms/step - loss: 3.0374 - disease_output_loss: 0.9993 - prescription_output_loss: 2.0381 - disease_output_accuracy: 0.7862 - prescription_output_accuracy: 0.5135\n"
     ]
    },
    {
     "data": {
      "text/plain": [
       "<keras.callbacks.History at 0x1adb6626620>"
      ]
     },
     "execution_count": 9,
     "metadata": {},
     "output_type": "execute_result"
    }
   ],
   "source": [
    "model.fit(padded_sequences, {'disease_output': disease_labels_categorical, 'prescription_output':\n",
    "      prescription_labels_categorical}, epochs=100, batch_size=32)"
   ]
  },
  {
   "cell_type": "markdown",
   "metadata": {},
   "source": [
    "### Making Predictions\n",
    "The model is used to make predictions for new patients:\n",
    "\n",
    "1. Pre-processed the patient's symptoms by performing tokenization and padding.\n",
    "2. Feed the pre-processed data into the trained model.\n",
    "3. The model predicts the disease and medication based on the patient's symptoms.\n",
    "4. The predicted disease and medication will be presented.\n",
    "\n"
   ]
  },
  {
   "cell_type": "code",
   "execution_count": 16,
   "metadata": {},
   "outputs": [
    {
     "name": "stdout",
     "output_type": "stream",
     "text": [
      "1/1 [==============================] - 0s 19ms/step\n",
      "Predicted Disease: Hyperthyroidism\n",
      "Suggested Prescription: Thyroid hormone replacement therapy.\n"
     ]
    }
   ],
   "source": [
    "def make_prediction(patient_problem):\n",
    "    # Preprocessing the input\n",
    "    sequence = tokenizer.texts_to_sequences([patient_problem])\n",
    "    padded_sequence = pad_sequences(sequence, maxlen=max_length, padding='post')\n",
    "    \n",
    "    # Making prediction\n",
    "    prediction = model.predict(padded_sequence)\n",
    "    \n",
    "    # Decoding the prediction\n",
    "    disease_index = np.argmax(prediction[0], axis=1)[0]\n",
    "    prescription_index = np.argmax(prediction[1], axis=1)[0]\n",
    "    \n",
    "    disease_predicted = label_encoder_disease.inverse_transform([disease_index])[0]\n",
    "    prescription_predicted = label_encoder_prescription.inverse_transform([prescription_index])[0]\n",
    "    \n",
    "    print(f\"Predicted Disease: {disease_predicted}\")\n",
    "    print(f\"Suggested Prescription: {prescription_predicted}\")\n",
    "\n",
    "\n",
    "patient_input = \"I've experienced a loss of appetite and don't enjoy food anymore.\"\n",
    "make_prediction(patient_input)"
   ]
  },
  {
   "cell_type": "markdown",
   "metadata": {},
   "source": [
    "## Visualized training and validation accuracy"
   ]
  },
  {
   "cell_type": "code",
   "execution_count": 17,
   "metadata": {},
   "outputs": [
    {
     "ename": "NameError",
     "evalue": "name 'history' is not defined",
     "output_type": "error",
     "traceback": [
      "\u001b[1;31m---------------------------------------------------------------------------\u001b[0m",
      "\u001b[1;31mNameError\u001b[0m                                 Traceback (most recent call last)",
      "Cell \u001b[1;32mIn[17], line 1\u001b[0m\n\u001b[1;32m----> 1\u001b[0m history_df \u001b[38;5;241m=\u001b[39m pd\u001b[38;5;241m.\u001b[39mDataFrame(\u001b[43mhistory\u001b[49m\u001b[38;5;241m.\u001b[39mhistory)\n\u001b[0;32m      2\u001b[0m history_df\u001b[38;5;241m.\u001b[39mloc[:, [\u001b[38;5;124m'\u001b[39m\u001b[38;5;124mloss\u001b[39m\u001b[38;5;124m'\u001b[39m, \u001b[38;5;124m'\u001b[39m\u001b[38;5;124mval_loss\u001b[39m\u001b[38;5;124m'\u001b[39m]]\u001b[38;5;241m.\u001b[39mplot()\n\u001b[0;32m      3\u001b[0m history_df\u001b[38;5;241m.\u001b[39mloc[:, [\u001b[38;5;124m'\u001b[39m\u001b[38;5;124maccuracy\u001b[39m\u001b[38;5;124m'\u001b[39m, \u001b[38;5;124m'\u001b[39m\u001b[38;5;124mval_accuracy\u001b[39m\u001b[38;5;124m'\u001b[39m]]\u001b[38;5;241m.\u001b[39mplot()\n",
      "\u001b[1;31mNameError\u001b[0m: name 'history' is not defined"
     ]
    }
   ],
   "source": [
    "history_df = pd.DataFrame(history.history)\n",
    "history_df.loc[:, ['loss', 'val_loss']].plot()\n",
    "history_df.loc[:, ['accuracy', 'val_accuracy']].plot()\n",
    "plt.show()"
   ]
  }
 ],
 "metadata": {
  "kernelspec": {
   "display_name": "tf_env",
   "language": "python",
   "name": "python3"
  },
  "language_info": {
   "codemirror_mode": {
    "name": "ipython",
    "version": 3
   },
   "file_extension": ".py",
   "mimetype": "text/x-python",
   "name": "python",
   "nbconvert_exporter": "python",
   "pygments_lexer": "ipython3",
   "version": "3.10.13"
  }
 },
 "nbformat": 4,
 "nbformat_minor": 2
}
